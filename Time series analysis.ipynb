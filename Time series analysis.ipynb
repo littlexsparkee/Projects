{
 "cells": [
  {
   "cell_type": "code",
   "execution_count": 8,
   "metadata": {},
   "outputs": [],
   "source": [
    "import numpy as np\n",
    "import pandas as pd\n",
    "import os\n",
    "import pathlib\n",
    "from matplotlib import pyplot"
   ]
  },
  {
   "cell_type": "code",
   "execution_count": 29,
   "metadata": {},
   "outputs": [],
   "source": [
    "#locate file\n",
    "cwd = os.getcwd()\n",
    "filepath = list(pathlib.Path(cwd).rglob('*oe.csv'))"
   ]
  },
  {
   "cell_type": "code",
   "execution_count": 90,
   "metadata": {},
   "outputs": [],
   "source": [
    "#file ingress\n",
    "df = pd.read_csv(filepath[0])"
   ]
  },
  {
   "cell_type": "code",
   "execution_count": 43,
   "metadata": {},
   "outputs": [],
   "source": [
    "#convert to timestamp for proper rendering in plt\n",
    "df['timestamp'] = pd.to_datetime(df['timestamp'])"
   ]
  },
  {
   "cell_type": "code",
   "execution_count": 44,
   "metadata": {},
   "outputs": [
    {
     "data": {
      "text/html": [
       "<div>\n",
       "<style scoped>\n",
       "    .dataframe tbody tr th:only-of-type {\n",
       "        vertical-align: middle;\n",
       "    }\n",
       "\n",
       "    .dataframe tbody tr th {\n",
       "        vertical-align: top;\n",
       "    }\n",
       "\n",
       "    .dataframe thead th {\n",
       "        text-align: right;\n",
       "    }\n",
       "</style>\n",
       "<table border=\"1\" class=\"dataframe\">\n",
       "  <thead>\n",
       "    <tr style=\"text-align: right;\">\n",
       "      <th></th>\n",
       "      <th>timestamp</th>\n",
       "      <th>Innodb_data_fsyncs</th>\n",
       "      <th>Threads_connected</th>\n",
       "    </tr>\n",
       "  </thead>\n",
       "  <tbody>\n",
       "    <tr>\n",
       "      <th>0</th>\n",
       "      <td>2019-04-18 21:06:02.141726</td>\n",
       "      <td>8503802</td>\n",
       "      <td>65</td>\n",
       "    </tr>\n",
       "    <tr>\n",
       "      <th>1</th>\n",
       "      <td>2019-04-18 21:06:07.260973</td>\n",
       "      <td>8526335</td>\n",
       "      <td>65</td>\n",
       "    </tr>\n",
       "    <tr>\n",
       "      <th>2</th>\n",
       "      <td>2019-04-18 21:06:12.344215</td>\n",
       "      <td>8548645</td>\n",
       "      <td>65</td>\n",
       "    </tr>\n",
       "    <tr>\n",
       "      <th>3</th>\n",
       "      <td>2019-04-18 21:06:17.436656</td>\n",
       "      <td>8570947</td>\n",
       "      <td>65</td>\n",
       "    </tr>\n",
       "    <tr>\n",
       "      <th>4</th>\n",
       "      <td>2019-04-18 21:06:22.525223</td>\n",
       "      <td>8593404</td>\n",
       "      <td>65</td>\n",
       "    </tr>\n",
       "  </tbody>\n",
       "</table>\n",
       "</div>"
      ],
      "text/plain": [
       "                   timestamp  Innodb_data_fsyncs  Threads_connected\n",
       "0 2019-04-18 21:06:02.141726             8503802                 65\n",
       "1 2019-04-18 21:06:07.260973             8526335                 65\n",
       "2 2019-04-18 21:06:12.344215             8548645                 65\n",
       "3 2019-04-18 21:06:17.436656             8570947                 65\n",
       "4 2019-04-18 21:06:22.525223             8593404                 65"
      ]
     },
     "execution_count": 44,
     "metadata": {},
     "output_type": "execute_result"
    }
   ],
   "source": [
    "#preview data\n",
    "df.head()"
   ]
  },
  {
   "cell_type": "code",
   "execution_count": 45,
   "metadata": {},
   "outputs": [],
   "source": [
    "#set datetime index for plotting, sanity checking var type\n",
    "df = df.set_index('timestamp')\n",
    "df.index"
   ]
  },
  {
   "cell_type": "code",
   "execution_count": 95,
   "metadata": {},
   "outputs": [
    {
     "data": {
      "image/png": "[encoded data removed]",
      "text/plain": [
       "<Figure size 432x288 with 1 Axes>"
      ]
     },
     "metadata": {
      "needs_background": "light"
     },
     "output_type": "display_data"
    }
   ],
   "source": [
    "#visualize raw data\n",
    "df.plot()\n",
    "pyplot.show()"
   ]
  },
  {
   "cell_type": "code",
   "execution_count": 96,
   "metadata": {},
   "outputs": [
    {
     "data": {
      "image/png": "[encoded data removed]",
      "text/plain": [
       "<Figure size 432x288 with 1 Axes>"
      ]
     },
     "metadata": {
      "needs_background": "light"
     },
     "output_type": "display_data"
    }
   ],
   "source": [
    "#Threads_connected looked flat but let's look in detail.\n",
    "df['Threads_connected'].plot()\n",
    "pyplot.show()"
   ]
  },
  {
   "cell_type": "code",
   "execution_count": 70,
   "metadata": {},
   "outputs": [],
   "source": [
    "#first difference\n",
    "df['diff'] = df['Innodb_data_fsyncs'] - df['Innodb_data_fsyncs'].shift(1)"
   ]
  },
  {
   "cell_type": "code",
   "execution_count": 73,
   "metadata": {},
   "outputs": [
    {
     "data": {
      "text/html": [
       "<div>\n",
       "<style scoped>\n",
       "    .dataframe tbody tr th:only-of-type {\n",
       "        vertical-align: middle;\n",
       "    }\n",
       "\n",
       "    .dataframe tbody tr th {\n",
       "        vertical-align: top;\n",
       "    }\n",
       "\n",
       "    .dataframe thead th {\n",
       "        text-align: right;\n",
       "    }\n",
       "</style>\n",
       "<table border=\"1\" class=\"dataframe\">\n",
       "  <thead>\n",
       "    <tr style=\"text-align: right;\">\n",
       "      <th></th>\n",
       "      <th>Innodb_data_fsyncs</th>\n",
       "      <th>Threads_connected</th>\n",
       "      <th>diff</th>\n",
       "    </tr>\n",
       "    <tr>\n",
       "      <th>timestamp</th>\n",
       "      <th></th>\n",
       "      <th></th>\n",
       "      <th></th>\n",
       "    </tr>\n",
       "  </thead>\n",
       "  <tbody>\n",
       "    <tr>\n",
       "      <th>2019-04-18 21:06:02.141726</th>\n",
       "      <td>8503802</td>\n",
       "      <td>65</td>\n",
       "      <td>NaN</td>\n",
       "    </tr>\n",
       "    <tr>\n",
       "      <th>2019-04-18 21:06:07.260973</th>\n",
       "      <td>8526335</td>\n",
       "      <td>65</td>\n",
       "      <td>22533.0</td>\n",
       "    </tr>\n",
       "    <tr>\n",
       "      <th>2019-04-18 21:06:12.344215</th>\n",
       "      <td>8548645</td>\n",
       "      <td>65</td>\n",
       "      <td>22310.0</td>\n",
       "    </tr>\n",
       "    <tr>\n",
       "      <th>2019-04-18 21:06:17.436656</th>\n",
       "      <td>8570947</td>\n",
       "      <td>65</td>\n",
       "      <td>22302.0</td>\n",
       "    </tr>\n",
       "    <tr>\n",
       "      <th>2019-04-18 21:06:22.525223</th>\n",
       "      <td>8593404</td>\n",
       "      <td>65</td>\n",
       "      <td>22457.0</td>\n",
       "    </tr>\n",
       "  </tbody>\n",
       "</table>\n",
       "</div>"
      ],
      "text/plain": [
       "                            Innodb_data_fsyncs  Threads_connected     diff\n",
       "timestamp                                                                 \n",
       "2019-04-18 21:06:02.141726             8503802                 65      NaN\n",
       "2019-04-18 21:06:07.260973             8526335                 65  22533.0\n",
       "2019-04-18 21:06:12.344215             8548645                 65  22310.0\n",
       "2019-04-18 21:06:17.436656             8570947                 65  22302.0\n",
       "2019-04-18 21:06:22.525223             8593404                 65  22457.0"
      ]
     },
     "execution_count": 73,
     "metadata": {},
     "output_type": "execute_result"
    }
   ],
   "source": [
    "#check\n",
    "df.head()"
   ]
  },
  {
   "cell_type": "code",
   "execution_count": 77,
   "metadata": {},
   "outputs": [
    {
     "data": {
      "image/png": "[encoded data removed]",
      "text/plain": [
       "<Figure size 432x288 with 1 Axes>"
      ]
     },
     "metadata": {
      "needs_background": "light"
     },
     "output_type": "display_data"
    }
   ],
   "source": [
    "#visualizing first diff'd threads, looks like that did the trick\n",
    "df[['Threads_connected','diff']].plot()\n",
    "pyplot.show()"
   ]
  },
  {
   "cell_type": "code",
   "execution_count": 83,
   "metadata": {},
   "outputs": [
    {
     "name": "stdout",
     "output_type": "stream",
     "text": [
      "ADF Statistic: -6.221202\n",
      "p-value: 0.000000\n",
      "Critical Values:\n",
      "\t1%: -3.431\n",
      "\t5%: -2.862\n",
      "\t10%: -2.567\n"
     ]
    }
   ],
   "source": [
    "#ran Augmented Dickey Fuller to check for non-stationarity before the transform and the result confirms it\n",
    "from statsmodels.tsa.stattools import adfuller\n",
    "result = adfuller(df['Innodb_data_fsyncs'])\n",
    "print('ADF Statistic: %f' % result[0])\n",
    "print('p-value: %f' % result[1])\n",
    "print('Critical Values:')\n",
    "for key, value in result[4].items():\n",
    "\tprint('\\t%s: %.3f' % (key, value))"
   ]
  },
  {
   "cell_type": "markdown",
   "metadata": {},
   "source": [
    "I started with visualizing the raw feature data - threads and fsyncs. fsyncs appeared to be a runaway process, reminding me of a memory leak I'd see in AWS. Threads looked nearly flat given the scale of fsyncs in the plt plot but isolating and visualizing that feature showed it to be more of a step function. I don't think it requires a transform since it appears to be scaling to demand the way that nodes ramp up and down like electrical lode or an HPC/distribued computing process. I made a first difference variable for fsyncs though, since any variability/spikes would be hidden given that the sheer ascent of the series makes visual discrimination of jumps impossible. This reveals 2 distinct spikes but otherwise shows a level, stationary series. The 2 drops in threads corresponds temporally to the 2 spikes in fsyncs, so we'd do well to dig into why the threads went down."
   ]
  }
 ],
 "metadata": {
  "kernelspec": {
   "display_name": "Python 3",
   "language": "python",
   "name": "python3"
  },
  "language_info": {
   "codemirror_mode": {
    "name": "ipython",
    "version": 3
   },
   "file_extension": ".py",
   "mimetype": "text/x-python",
   "name": "python",
   "nbconvert_exporter": "python",
   "pygments_lexer": "ipython3",
   "version": "3.7.1"
  }
 },
 "nbformat": 4,
 "nbformat_minor": 2
}
